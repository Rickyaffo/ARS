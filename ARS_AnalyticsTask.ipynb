{
 "cells": [
  {
   "cell_type": "code",
   "execution_count": 1,
   "metadata": {
    "scrolled": true
   },
   "outputs": [
    {
     "name": "stdout",
     "output_type": "stream",
     "text": [
      "Populating the interactive namespace from numpy and matplotlib\n"
     ]
    }
   ],
   "source": [
    "import networkx as nx\n",
    "import pandas as pd\n",
    "from nf1 import *\n",
    "import community\n",
    "from networkx.algorithms.community import *\n",
    "%pylab inline\n",
    "%matplotlib inline\n",
    "import seaborn as sns\n",
    "from functools import *\n",
    "from bokeh.io import output_notebook, show, save,output_file\n",
    "from ndlib.viz.bokeh.DiffusionTrend import DiffusionTrend\n",
    "from ndlib.viz.bokeh.DiffusionPrevalence import DiffusionPrevalence\n",
    "from ndlib.viz.bokeh.MultiPlot import MultiPlot\n",
    "import scipy.stats as st\n",
    "import demon as d\n",
    "from pquality.PartitionQuality import pquality_summary\n",
    "from pylab import rcParams\n",
    "from collections import defaultdict\n",
    "import json\n",
    "import ndlib.models.epidemics.SISModel as sis\n",
    "import ndlib.models.epidemics.SIModel as si\n",
    "import ndlib.models.epidemics.ThresholdModel as th\n",
    "import ndlib.models.ModelConfig as mc\n",
    "from bokeh.models.annotations import Title\n",
    "rcParams['figure.figsize'] = 7, 5\n",
    "from collections import Counter\n",
    "from itertools import chain"
   ]
  },
  {
   "cell_type": "markdown",
   "metadata": {},
   "source": [
    "Moreover, the statistics computed on the crawled data must be compared with\n",
    "the ones of (i) random and (ii) preferential attachment graphs having the same\n",
    "number of nodes."
   ]
  },
  {
   "cell_type": "code",
   "execution_count": 2,
   "metadata": {
    "scrolled": true
   },
   "outputs": [
    {
     "data": {
      "text/html": [
       "<div>\n",
       "<style scoped>\n",
       "    .dataframe tbody tr th:only-of-type {\n",
       "        vertical-align: middle;\n",
       "    }\n",
       "\n",
       "    .dataframe tbody tr th {\n",
       "        vertical-align: top;\n",
       "    }\n",
       "\n",
       "    .dataframe thead th {\n",
       "        text-align: right;\n",
       "    }\n",
       "</style>\n",
       "<table border=\"1\" class=\"dataframe\">\n",
       "  <thead>\n",
       "    <tr style=\"text-align: right;\">\n",
       "      <th></th>\n",
       "      <th>Source</th>\n",
       "      <th>Target</th>\n",
       "      <th>Weight</th>\n",
       "      <th>Timestamp</th>\n",
       "    </tr>\n",
       "  </thead>\n",
       "  <tbody>\n",
       "    <tr>\n",
       "      <th>0</th>\n",
       "      <td>6</td>\n",
       "      <td>2</td>\n",
       "      <td>4</td>\n",
       "      <td>1.289242e+09</td>\n",
       "    </tr>\n",
       "    <tr>\n",
       "      <th>1</th>\n",
       "      <td>6</td>\n",
       "      <td>5</td>\n",
       "      <td>2</td>\n",
       "      <td>1.289242e+09</td>\n",
       "    </tr>\n",
       "    <tr>\n",
       "      <th>2</th>\n",
       "      <td>1</td>\n",
       "      <td>15</td>\n",
       "      <td>1</td>\n",
       "      <td>1.289243e+09</td>\n",
       "    </tr>\n",
       "    <tr>\n",
       "      <th>3</th>\n",
       "      <td>4</td>\n",
       "      <td>3</td>\n",
       "      <td>7</td>\n",
       "      <td>1.289245e+09</td>\n",
       "    </tr>\n",
       "    <tr>\n",
       "      <th>4</th>\n",
       "      <td>13</td>\n",
       "      <td>16</td>\n",
       "      <td>8</td>\n",
       "      <td>1.289254e+09</td>\n",
       "    </tr>\n",
       "  </tbody>\n",
       "</table>\n",
       "</div>"
      ],
      "text/plain": [
       "   Source  Target  Weight     Timestamp\n",
       "0       6       2       4  1.289242e+09\n",
       "1       6       5       2  1.289242e+09\n",
       "2       1      15       1  1.289243e+09\n",
       "3       4       3       7  1.289245e+09\n",
       "4      13      16       8  1.289254e+09"
      ]
     },
     "execution_count": 2,
     "metadata": {},
     "output_type": "execute_result"
    }
   ],
   "source": [
    "df = pd.read_csv('dataset.csv', sep=\",\")\n",
    "df.head()"
   ]
  },
  {
   "cell_type": "code",
   "execution_count": 3,
   "metadata": {},
   "outputs": [],
   "source": [
    "class Graph(object):\n",
    "    \n",
    "    df = pd.DataFrame()\n",
    "    dfB = pd.DataFrame()\n",
    "    dfC = pd.DataFrame()\n",
    "\n",
    "    density = 0\n",
    "        \n",
    "    def __init__(self, g, name):\n",
    "        self.g = g\n",
    "        self.name = name\n",
    "        self.degree() \n",
    "        self.N = g.order()\n",
    "        self.E = g.size()\n",
    "    def componentOverlap(self,p):\n",
    "        inc, dec = p\n",
    "        self.increasingoverlap = inc\n",
    "        self.decreasingoverlap = dec\n",
    "        \n",
    "    def overlap(self,ov):\n",
    "        self.overlapping_coefficient = ov\n",
    "    \n",
    "    def add_column(cln,data):\n",
    "        self.df[cln] = Series(data, index=self.df.index)\n",
    "    def lcoms(self,lcoms):\n",
    "        self.lcoms = lcoms  \n",
    "    def kcoms(self,kcoms):\n",
    "        self.kcoms = kcoms      \n",
    "    def dcoms(self,dcoms):\n",
    "        self.dcoms = dcoms  \n",
    "    def locoms(self,locoms):\n",
    "        self.locoms = locoms   \n",
    "    def avg (self):\n",
    "         self.avg_deg = float(self.E)/self.N      \n",
    "    def degree(self):\n",
    "        self.degrees = sorted([ v for (k , v ) in self.g.degree()], reverse=True)\n",
    "    def degreeCen(self,deg):\n",
    "        self.degC = deg\n",
    "    def betCen(self,deg):\n",
    "        self.degB = deg\n",
    "    def closeCen(self,deg):\n",
    "        self.degClose = deg"
   ]
  },
  {
   "cell_type": "code",
   "execution_count": 4,
   "metadata": {},
   "outputs": [
    {
     "data": {
      "text/html": [
       "<div>\n",
       "<style scoped>\n",
       "    .dataframe tbody tr th:only-of-type {\n",
       "        vertical-align: middle;\n",
       "    }\n",
       "\n",
       "    .dataframe tbody tr th {\n",
       "        vertical-align: top;\n",
       "    }\n",
       "\n",
       "    .dataframe thead th {\n",
       "        text-align: right;\n",
       "    }\n",
       "</style>\n",
       "<table border=\"1\" class=\"dataframe\">\n",
       "  <thead>\n",
       "    <tr style=\"text-align: right;\">\n",
       "      <th></th>\n",
       "      <th>Source</th>\n",
       "      <th>Target</th>\n",
       "      <th>Weight</th>\n",
       "      <th>Timestamp</th>\n",
       "    </tr>\n",
       "  </thead>\n",
       "  <tbody>\n",
       "    <tr>\n",
       "      <th>0</th>\n",
       "      <td>6</td>\n",
       "      <td>2</td>\n",
       "      <td>0.70</td>\n",
       "      <td>1.289242e+09</td>\n",
       "    </tr>\n",
       "    <tr>\n",
       "      <th>1</th>\n",
       "      <td>6</td>\n",
       "      <td>5</td>\n",
       "      <td>0.60</td>\n",
       "      <td>1.289242e+09</td>\n",
       "    </tr>\n",
       "    <tr>\n",
       "      <th>2</th>\n",
       "      <td>1</td>\n",
       "      <td>15</td>\n",
       "      <td>0.55</td>\n",
       "      <td>1.289243e+09</td>\n",
       "    </tr>\n",
       "    <tr>\n",
       "      <th>3</th>\n",
       "      <td>4</td>\n",
       "      <td>3</td>\n",
       "      <td>0.85</td>\n",
       "      <td>1.289245e+09</td>\n",
       "    </tr>\n",
       "    <tr>\n",
       "      <th>4</th>\n",
       "      <td>13</td>\n",
       "      <td>16</td>\n",
       "      <td>0.90</td>\n",
       "      <td>1.289254e+09</td>\n",
       "    </tr>\n",
       "  </tbody>\n",
       "</table>\n",
       "</div>"
      ],
      "text/plain": [
       "   Source  Target  Weight     Timestamp\n",
       "0       6       2    0.70  1.289242e+09\n",
       "1       6       5    0.60  1.289242e+09\n",
       "2       1      15    0.55  1.289243e+09\n",
       "3       4       3    0.85  1.289245e+09\n",
       "4      13      16    0.90  1.289254e+09"
      ]
     },
     "execution_count": 4,
     "metadata": {},
     "output_type": "execute_result"
    }
   ],
   "source": [
    "df['Weight'] = (df['Weight']-min(df['Weight']))/(max(df['Weight'])-min(df['Weight']))\n",
    "df.head()"
   ]
  },
  {
   "cell_type": "code",
   "execution_count": 5,
   "metadata": {},
   "outputs": [],
   "source": [
    "#ax = sns.distplot(df['Weight'], bins = 300)\n",
    "#ax.set(xlabel='Degree', ylabel='Frequency')\n",
    "n= 100"
   ]
  },
  {
   "cell_type": "code",
   "execution_count": 6,
   "metadata": {},
   "outputs": [],
   "source": [
    "#!jupyter nbconvert --to script ARS_AnalyticsTask.ipynb"
   ]
  },
  {
   "cell_type": "code",
   "execution_count": 7,
   "metadata": {
    "scrolled": true
   },
   "outputs": [],
   "source": [
    "nt = nx.DiGraph(name=\"Bitcoin Over The Counter\")\n",
    "nt = nx.from_pandas_edgelist(df, source='Source', target='Target', edge_attr  =['Weight'])\n",
    "g = nt.copy()\n",
    "ER = nx.erdos_renyi_graph(nt.number_of_nodes(), 0.1)\n",
    "BA = nx.barabasi_albert_graph(nt.number_of_nodes(), 3, seed=None)\n",
    "graphs = []\n",
    "graphs.append(Graph(g,\"Bitcoin\"))\n",
    "graphs.append(Graph(ER, \"Erdos Renyi\"))\n",
    "graphs.append(Graph(BA, \"Barabasi Albert\"))"
   ]
  },
  {
   "cell_type": "code",
   "execution_count": 73,
   "metadata": {},
   "outputs": [],
   "source": [
    "def statistic(graph):\n",
    "    \"\"\"\n",
    "    grap: network\n",
    "    n_pieces: \n",
    "    \"\"\"\n",
    "    print(\"Nome rete analizzata: %s\" % graph.name)\n",
    "    print(nx.info(graph.g))\n",
    "    print(\"Numero di self-loops\",nx.number_of_selfloops(graph.g))\n",
    "    #  print(\"Diametro:\" , nx.diameter(graph.to_undirected(True)))\n",
    "    graph.g.density = nx.density(graph.g)\n",
    "    print(\"Densità:\",graph.g.density)\n",
    "    graph.avg()\n",
    "    print(\"Avg_degree:\", graph.avg_deg )\n",
    "    print(\"Media gradi:\", np.mean(graph.degrees))\n",
    "    print(\"Moda gradi:\",st.mode(graph.degrees))\n",
    "    print(\"Mediana gradi:\",np.median(graph.degrees))\n",
    "    #  for s,t,attr in graph.edges(data=True):\n",
    "   #     print(s,t,attr['Weight'])\n",
    "def overlapping(graph):\n",
    "    overlapping_coefficents = []\n",
    "    for x, y in graph.g.edges():\n",
    "        overlapping_coefficents.append((x, y, len(list(nx.common_neighbors(graph.g, x, y)))))\n",
    "        overlapping_coefficents = sorted(overlapping_coefficents, key=lambda tup: tup[2])\n",
    "    graph.overlap(overlapping_coefficents) "
   ]
  },
  {
   "cell_type": "code",
   "execution_count": 108,
   "metadata": {},
   "outputs": [],
   "source": [
    "#per grafi diretti\n",
    "def degree_centrality(graph,str):\n",
    "    def n_node_outdegree(g,out):\n",
    "        return reduce(lambda c , n : c + 1 if g.out_degree( out ) < 1 else c , g.nodes()\n",
    "                , 0)\n",
    "    def n_node_outdegree(g,inner):\n",
    "        return reduce(lambda c , n : c + 1 if g.in_degree( inner ) < 1 else c , g.nodes()\n",
    "                , 0)\n",
    "    print(\"Degree Centrality:\")\n",
    "    fun1 =  list(map(lambda x: graph.degree(x), graph.nodes()))\n",
    "  #  fun2 =  list(map(lambda x: graph.out_degree(x), graph.nodes()))\n",
    "  #  fun3 =  list(map(lambda x: graph.in_degree(x), graph.nodes()))\n",
    "    plot_degree_distribution(fun1, str )\n",
    "  #  plot_degree_distribution(fun2, \"Out Degree Distribution\" )\n",
    "  #  plot_degree_distribution(fun3, \"In Degree Distribution\")"
   ]
  },
  {
   "cell_type": "markdown",
   "metadata": {},
   "source": [
    "In order to easily explore these centrality metrics on our graph, let's create a function\n",
    "that generically prints the top 10 nodes based on the centrality metric:"
   ]
  },
  {
   "cell_type": "code",
   "execution_count": 109,
   "metadata": {},
   "outputs": [],
   "source": [
    "def nbest_centrality(graph, metric, n=100,\n",
    "    attribute=\"centrality\", **kwargs):\n",
    "    centrality = metric(graph, **kwargs)\n",
    "  #  nx.set_node_attributes(graph, centrality,attribute)\n",
    "    degrees = sorted(centrality.items(), key=lambda x: x[1], reverse=True)\n",
    "    #for idx, item in enumerate(degrees[0:10]):\n",
    "     #   item = (idx+1,) + item\n",
    "     #   print(\"%i. %s: %0.3f\" % item)\n",
    "    return degrees"
   ]
  },
  {
   "cell_type": "code",
   "execution_count": 8,
   "metadata": {},
   "outputs": [],
   "source": [
    "def plotting(graph):\n",
    "    graph = graph.to_undirected(True)\n",
    "    nx.draw(graph)\n",
    "    pos=nx.spring_layout(graph)\n",
    "    # Find the center Node\n",
    "    dmin=1\n",
    "    ncenter=0\n",
    "    for n in pos:\n",
    "        x,y=pos[n]\n",
    "        d=(x-0.5)**2+(y-0.5)**2\n",
    "        if d<dmin:\n",
    "            ncenter=n\n",
    "            dmin=d\n",
    "    p=nx.single_source_shortest_path_length(graph,ncenter)\n",
    "    plt.figure(figsize=(8,8))\n",
    "    nx.draw_networkx_edges(graph,pos,nodelist=[ncenter],alpha=0.4)\n",
    "    nx.draw_networkx_nodes(graph,pos,nodelist=list(p.keys()),node_size=90,node_color=list(p.values()),cmap=plt.cm.Reds_r)\n",
    "    plt.show()"
   ]
  },
  {
   "cell_type": "code",
   "execution_count": 9,
   "metadata": {},
   "outputs": [],
   "source": [
    "def plot_degree_distribution (deg, str) :\n",
    "    degs = {}\n",
    "    for n in deg :\n",
    "        if n not in degs :\n",
    "            degs [ n ] = 0\n",
    "        degs [ n ] += 1\n",
    "    items = sorted(degs.items())\n",
    "    fig = figure()\n",
    "    ax = fig.add_subplot(111)\n",
    "    ax.plot( [ v for (k ,v ) in items ],[ k for (k , v ) in items ],marker='o',linestyle=\"None\")\n",
    "    ax.set_xscale('log')\n",
    "    ax.set_yscale( 'log')\n",
    "    plt.title( str )\n",
    "    plt.ylabel(\"#nodes\")\n",
    "    plt.xlabel(\"degree\")\n",
    "    fig.savefig ( str + \"png \" )"
   ]
  },
  {
   "cell_type": "code",
   "execution_count": 112,
   "metadata": {},
   "outputs": [
    {
     "ename": "NameError",
     "evalue": "name 'statistic' is not defined",
     "output_type": "error",
     "traceback": [
      "\u001b[1;31m---------------------------------------------------------------------------\u001b[0m",
      "\u001b[1;31mNameError\u001b[0m                                 Traceback (most recent call last)",
      "\u001b[1;32m<ipython-input-112-02c7748b60e6>\u001b[0m in \u001b[0;36m<module>\u001b[1;34m()\u001b[0m\n\u001b[0;32m      1\u001b[0m \u001b[1;32mfor\u001b[0m \u001b[0mobj\u001b[0m \u001b[1;32min\u001b[0m \u001b[0mgraphs\u001b[0m\u001b[1;33m:\u001b[0m\u001b[1;33m\u001b[0m\u001b[0m\n\u001b[1;32m----> 2\u001b[1;33m     \u001b[0mstatistic\u001b[0m\u001b[1;33m(\u001b[0m\u001b[0mobj\u001b[0m\u001b[1;33m)\u001b[0m\u001b[1;33m\u001b[0m\u001b[0m\n\u001b[0m\u001b[0;32m      3\u001b[0m     \u001b[0mprint\u001b[0m\u001b[1;33m(\u001b[0m\u001b[1;34m\"Transivity:\"\u001b[0m \u001b[1;33m,\u001b[0m\u001b[0mnx\u001b[0m\u001b[1;33m.\u001b[0m\u001b[0mtransitivity\u001b[0m\u001b[1;33m(\u001b[0m\u001b[0mobj\u001b[0m\u001b[1;33m.\u001b[0m\u001b[0mg\u001b[0m\u001b[1;33m.\u001b[0m\u001b[0mto_undirected\u001b[0m\u001b[1;33m(\u001b[0m\u001b[1;32mTrue\u001b[0m\u001b[1;33m)\u001b[0m\u001b[1;33m)\u001b[0m\u001b[1;33m)\u001b[0m\u001b[1;33m\u001b[0m\u001b[0m\n\u001b[0;32m      4\u001b[0m     \u001b[0mprint\u001b[0m\u001b[1;33m(\u001b[0m\u001b[1;34m\"Average clustering:\"\u001b[0m \u001b[1;33m,\u001b[0m\u001b[0mnx\u001b[0m\u001b[1;33m.\u001b[0m\u001b[0maverage_clustering\u001b[0m\u001b[1;33m(\u001b[0m\u001b[0mobj\u001b[0m\u001b[1;33m.\u001b[0m\u001b[0mg\u001b[0m\u001b[1;33m.\u001b[0m\u001b[0mto_undirected\u001b[0m\u001b[1;33m(\u001b[0m\u001b[1;32mTrue\u001b[0m\u001b[1;33m)\u001b[0m\u001b[1;33m)\u001b[0m\u001b[1;33m)\u001b[0m\u001b[1;33m\u001b[0m\u001b[0m\n\u001b[0;32m      5\u001b[0m    \u001b[1;31m# if(obj.name != \"Bitcoin\"):   #time required\u001b[0m\u001b[1;33m\u001b[0m\u001b[1;33m\u001b[0m\u001b[0m\n",
      "\u001b[1;31mNameError\u001b[0m: name 'statistic' is not defined"
     ]
    }
   ],
   "source": [
    "for obj in graphs:\n",
    "    statistic(obj)\n",
    "   # if(obj.name != \"Bitcoin\"):   #time required\n",
    "       # print(\"Diametero\", nx.diameter(obj.g.to_undirected(True)))"
   ]
  },
  {
   "cell_type": "code",
   "execution_count": null,
   "metadata": {},
   "outputs": [],
   "source": [
    "for obj in graphs:\n",
    "    overlapping(obj)"
   ]
  },
  {
   "cell_type": "code",
   "execution_count": null,
   "metadata": {},
   "outputs": [],
   "source": [
    "for obj in graphs:\n",
    "    print(\"Transivity:\" ,nx.transitivity(obj.g.to_undirected(True)))\n",
    "    print(\"Average clustering:\" ,nx.average_clustering(obj.g.to_undirected(True)))"
   ]
  },
  {
   "cell_type": "code",
   "execution_count": 115,
   "metadata": {
    "scrolled": true
   },
   "outputs": [
    {
     "name": "stdout",
     "output_type": "stream",
     "text": [
      "Degree Centrality:\n",
      "Degree Centrality:\n",
      "Degree Centrality:\n"
     ]
    },
    {
     "data": {
      "image/png": "[encoded data removed]",
      "text/plain": [
       "<Figure size 432x288 with 1 Axes>"
      ]
     },
     "metadata": {},
     "output_type": "display_data"
    },
    {
     "data": {
      "image/png": "[encoded data removed]",
      "text/plain": [
       "<Figure size 432x288 with 1 Axes>"
      ]
     },
     "metadata": {},
     "output_type": "display_data"
    },
    {
     "data": {
      "image/png": "[encoded data removed]",
      "text/plain": [
       "<Figure size 432x288 with 1 Axes>"
      ]
     },
     "metadata": {},
     "output_type": "display_data"
    }
   ],
   "source": [
    "degree_centrality(graphs[0].g.to_directed(), \"Bitcoin Degree Distribution\")\n",
    "degree_centrality(graphs[1].g, \"ER Degree Distribution\")\n",
    "degree_centrality(graphs[2].g, \"BA Degree Distribution\")"
   ]
  },
  {
   "cell_type": "code",
   "execution_count": 116,
   "metadata": {},
   "outputs": [],
   "source": [
    "#plotting(g)"
   ]
  },
  {
   "cell_type": "code",
   "execution_count": 10,
   "metadata": {},
   "outputs": [],
   "source": [
    "def distributions_plotting(graphs): \n",
    "    plt.loglog(graphs[0].degrees, label=graphs[0].name, color='b',marker='o')\n",
    "    plt.loglog(graphs[1].degrees, label=graphs[1].name, color='r',marker='o')\n",
    "    plt.loglog(graphs[2].degrees, label=graphs[2].name, color='g',marker='o')\n",
    "    plt.legend()\n",
    "    plt.ylabel('DC')\n",
    "    plt.xlabel('nodes')\n",
    "    plt.savefig('degree_distribution.png', format='png')\n",
    "    plt.close()"
   ]
  },
  {
   "cell_type": "code",
   "execution_count": 54,
   "metadata": {},
   "outputs": [],
   "source": [
    "distributions_plotting(graphs)"
   ]
  },
  {
   "cell_type": "code",
   "execution_count": 14,
   "metadata": {
    "scrolled": true
   },
   "outputs": [
    {
     "data": {
      "text/plain": [
       "Text(0.5,1,'Top 100 Degree')"
      ]
     },
     "execution_count": 14,
     "metadata": {},
     "output_type": "execute_result"
    },
    {
     "data": {
      "image/png": "[encoded data removed]",
      "text/plain": [
       "<Figure size 432x288 with 1 Axes>"
      ]
     },
     "metadata": {},
     "output_type": "display_data"
    }
   ],
   "source": [
    "for obj in graphs:\n",
    "    obj.degreeCen(nbest_centrality(obj.g, nx.degree_centrality))\n",
    "fig = figure()\n",
    "ax = fig.add_subplot(111)\n",
    "ax.plot([  item[1] for idx, item in enumerate(graphs[0].degC[0:100])],'r-') # bitcoin\n",
    "ax.plot([  item[1] for idx, item in enumerate(graphs[1].degC[0:100])],'b-') # Er\n",
    "ax.plot([  item[1] for idx, item in enumerate(graphs[2].degC[0:100])],'g-') # Ba\n",
    "plt.xlabel(\"Nodes\")\n",
    "plt.ylabel(\"Degree Centrality\")\n",
    "plt.legend([graphs[0].name,graphs[0].name,graphs[1].name])\n",
    "plt.title(\"Top 100 Degree\")"
   ]
  },
  {
   "cell_type": "code",
   "execution_count": 15,
   "metadata": {},
   "outputs": [],
   "source": [
    "for obj in graphs:\n",
    "    d = {'Nodo ' + obj.name: [ item[0]  for idx, item in enumerate(obj.degC)] ,\n",
    "         'Grado': [  item[1] for idx, item in enumerate(obj.degC)],\n",
    "         \"Nodi\": obj.degrees}\n",
    "    df = pd.DataFrame(data=d)\n",
    "    obj.df = df.set_index('Nodo ' + obj.name)"
   ]
  },
  {
   "cell_type": "code",
   "execution_count": 16,
   "metadata": {},
   "outputs": [
    {
     "data": {
      "text/html": [
       "<div>\n",
       "<style scoped>\n",
       "    .dataframe tbody tr th:only-of-type {\n",
       "        vertical-align: middle;\n",
       "    }\n",
       "\n",
       "    .dataframe tbody tr th {\n",
       "        vertical-align: top;\n",
       "    }\n",
       "\n",
       "    .dataframe thead th {\n",
       "        text-align: right;\n",
       "    }\n",
       "</style>\n",
       "<table border=\"1\" class=\"dataframe\">\n",
       "  <thead>\n",
       "    <tr style=\"text-align: right;\">\n",
       "      <th></th>\n",
       "      <th>Grado Closeness</th>\n",
       "      <th>Nodi</th>\n",
       "    </tr>\n",
       "    <tr>\n",
       "      <th>Nodo Bitcoin</th>\n",
       "      <th></th>\n",
       "      <th></th>\n",
       "    </tr>\n",
       "  </thead>\n",
       "  <tbody>\n",
       "    <tr>\n",
       "      <th>35.0</th>\n",
       "      <td>0.135204</td>\n",
       "      <td>795</td>\n",
       "    </tr>\n",
       "    <tr>\n",
       "      <th>1810.0</th>\n",
       "      <td>0.074660</td>\n",
       "      <td>439</td>\n",
       "    </tr>\n",
       "    <tr>\n",
       "      <th>2642.0</th>\n",
       "      <td>0.074490</td>\n",
       "      <td>438</td>\n",
       "    </tr>\n",
       "    <tr>\n",
       "      <th>2125.0</th>\n",
       "      <td>0.074150</td>\n",
       "      <td>436</td>\n",
       "    </tr>\n",
       "    <tr>\n",
       "      <th>2028.0</th>\n",
       "      <td>0.055442</td>\n",
       "      <td>326</td>\n",
       "    </tr>\n",
       "  </tbody>\n",
       "</table>\n",
       "</div>"
      ],
      "text/plain": [
       "              Grado Closeness  Nodi\n",
       "Nodo Bitcoin                       \n",
       "35.0                 0.135204   795\n",
       "1810.0               0.074660   439\n",
       "2642.0               0.074490   438\n",
       "2125.0               0.074150   436\n",
       "2028.0               0.055442   326"
      ]
     },
     "execution_count": 16,
     "metadata": {},
     "output_type": "execute_result"
    }
   ],
   "source": [
    "graphs[0].df.head()"
   ]
  },
  {
   "cell_type": "code",
   "execution_count": 17,
   "metadata": {
    "scrolled": true
   },
   "outputs": [
    {
     "data": {
      "text/html": [
       "<div>\n",
       "<style scoped>\n",
       "    .dataframe tbody tr th:only-of-type {\n",
       "        vertical-align: middle;\n",
       "    }\n",
       "\n",
       "    .dataframe tbody tr th {\n",
       "        vertical-align: top;\n",
       "    }\n",
       "\n",
       "    .dataframe thead th {\n",
       "        text-align: right;\n",
       "    }\n",
       "</style>\n",
       "<table border=\"1\" class=\"dataframe\">\n",
       "  <thead>\n",
       "    <tr style=\"text-align: right;\">\n",
       "      <th></th>\n",
       "      <th>Grado Closeness</th>\n",
       "      <th>Nodi</th>\n",
       "    </tr>\n",
       "    <tr>\n",
       "      <th>Nodo Erdos Renyi</th>\n",
       "      <th></th>\n",
       "      <th></th>\n",
       "    </tr>\n",
       "  </thead>\n",
       "  <tbody>\n",
       "    <tr>\n",
       "      <th>5730</th>\n",
       "      <td>0.113265</td>\n",
       "      <td>666</td>\n",
       "    </tr>\n",
       "    <tr>\n",
       "      <th>3625</th>\n",
       "      <td>0.113095</td>\n",
       "      <td>665</td>\n",
       "    </tr>\n",
       "    <tr>\n",
       "      <th>5459</th>\n",
       "      <td>0.112925</td>\n",
       "      <td>664</td>\n",
       "    </tr>\n",
       "    <tr>\n",
       "      <th>1288</th>\n",
       "      <td>0.112755</td>\n",
       "      <td>663</td>\n",
       "    </tr>\n",
       "    <tr>\n",
       "      <th>1055</th>\n",
       "      <td>0.112415</td>\n",
       "      <td>661</td>\n",
       "    </tr>\n",
       "  </tbody>\n",
       "</table>\n",
       "</div>"
      ],
      "text/plain": [
       "                  Grado Closeness  Nodi\n",
       "Nodo Erdos Renyi                       \n",
       "5730                     0.113265   666\n",
       "3625                     0.113095   665\n",
       "5459                     0.112925   664\n",
       "1288                     0.112755   663\n",
       "1055                     0.112415   661"
      ]
     },
     "execution_count": 17,
     "metadata": {},
     "output_type": "execute_result"
    }
   ],
   "source": [
    "graphs[1].df.head()"
   ]
  },
  {
   "cell_type": "code",
   "execution_count": 18,
   "metadata": {},
   "outputs": [
    {
     "data": {
      "text/html": [
       "<div>\n",
       "<style scoped>\n",
       "    .dataframe tbody tr th:only-of-type {\n",
       "        vertical-align: middle;\n",
       "    }\n",
       "\n",
       "    .dataframe tbody tr th {\n",
       "        vertical-align: top;\n",
       "    }\n",
       "\n",
       "    .dataframe thead th {\n",
       "        text-align: right;\n",
       "    }\n",
       "</style>\n",
       "<table border=\"1\" class=\"dataframe\">\n",
       "  <thead>\n",
       "    <tr style=\"text-align: right;\">\n",
       "      <th></th>\n",
       "      <th>Grado Closeness</th>\n",
       "      <th>Nodi</th>\n",
       "    </tr>\n",
       "    <tr>\n",
       "      <th>Nodo Barabasi Albert</th>\n",
       "      <th></th>\n",
       "      <th></th>\n",
       "    </tr>\n",
       "  </thead>\n",
       "  <tbody>\n",
       "    <tr>\n",
       "      <th>3</th>\n",
       "      <td>0.038265</td>\n",
       "      <td>225</td>\n",
       "    </tr>\n",
       "    <tr>\n",
       "      <th>1</th>\n",
       "      <td>0.035884</td>\n",
       "      <td>211</td>\n",
       "    </tr>\n",
       "    <tr>\n",
       "      <th>2</th>\n",
       "      <td>0.035714</td>\n",
       "      <td>210</td>\n",
       "    </tr>\n",
       "    <tr>\n",
       "      <th>13</th>\n",
       "      <td>0.027891</td>\n",
       "      <td>164</td>\n",
       "    </tr>\n",
       "    <tr>\n",
       "      <th>18</th>\n",
       "      <td>0.024830</td>\n",
       "      <td>146</td>\n",
       "    </tr>\n",
       "  </tbody>\n",
       "</table>\n",
       "</div>"
      ],
      "text/plain": [
       "                      Grado Closeness  Nodi\n",
       "Nodo Barabasi Albert                       \n",
       "3                            0.038265   225\n",
       "1                            0.035884   211\n",
       "2                            0.035714   210\n",
       "13                           0.027891   164\n",
       "18                           0.024830   146"
      ]
     },
     "execution_count": 18,
     "metadata": {},
     "output_type": "execute_result"
    }
   ],
   "source": [
    "graphs[2].df.head()"
   ]
  },
  {
   "cell_type": "markdown",
   "metadata": {},
   "source": [
    "Note that this computation is extremely expensive and could take a long time\n",
    "on your computer!"
   ]
  },
  {
   "cell_type": "code",
   "execution_count": 27,
   "metadata": {},
   "outputs": [
    {
     "data": {
      "text/plain": [
       "Text(0.5,1,'Top 100 Betweenness Degree')"
      ]
     },
     "execution_count": 27,
     "metadata": {},
     "output_type": "execute_result"
    },
    {
     "data": {
      "image/png": "[encoded data removed]",
      "text/plain": [
       "<Figure size 432x288 with 1 Axes>"
      ]
     },
     "metadata": {},
     "output_type": "display_data"
    }
   ],
   "source": [
    "for obj in graphs:\n",
    "    obj.betCen(nbest_centrality(obj.g, nx.betweenness_centrality, normalized=True))\n",
    "fig = figure()\n",
    "ax = fig.add_subplot(111)\n",
    "ax.plot([  item[1] for idx, item in enumerate(graphs[0].degB[0:100])],'r-') # bitcoin\n",
    "ax.plot([  item[1] for idx, item in enumerate(graphs[1].degB[0:100])],'b-') # Er\n",
    "ax.plot([  item[1] for idx, item in enumerate(graphs[2].degB[0:100])],'g-') # Ba\n",
    "plt.xlabel(\"Nodes\")\n",
    "plt.ylabel(\"Betweenness Centrality\")\n",
    "plt.legend([graphs[0].name,graphs[1].name,graphs[2].name])\n",
    "plt.title(\"Top 100 Betweenness Degree\")"
   ]
  },
  {
   "cell_type": "code",
   "execution_count": 28,
   "metadata": {},
   "outputs": [],
   "source": [
    "for obj in graphs:\n",
    "    d = {'Nodo ' + obj.name: [ item[0]  for idx, item in enumerate(obj.degB)] ,\n",
    "         'Grado Betweenness': [  item[1] for idx, item in enumerate(obj.degB)]}\n",
    "    df = pd.DataFrame(data=d)\n",
    "    obj.dfB = df.set_index('Nodo ' + obj.name)"
   ]
  },
  {
   "cell_type": "code",
   "execution_count": 29,
   "metadata": {
    "scrolled": true
   },
   "outputs": [
    {
     "data": {
      "text/html": [
       "<div>\n",
       "<style scoped>\n",
       "    .dataframe tbody tr th:only-of-type {\n",
       "        vertical-align: middle;\n",
       "    }\n",
       "\n",
       "    .dataframe tbody tr th {\n",
       "        vertical-align: top;\n",
       "    }\n",
       "\n",
       "    .dataframe thead th {\n",
       "        text-align: right;\n",
       "    }\n",
       "</style>\n",
       "<table border=\"1\" class=\"dataframe\">\n",
       "  <thead>\n",
       "    <tr style=\"text-align: right;\">\n",
       "      <th></th>\n",
       "      <th>Grado Betweenness</th>\n",
       "    </tr>\n",
       "    <tr>\n",
       "      <th>Nodo Bitcoin</th>\n",
       "      <th></th>\n",
       "    </tr>\n",
       "  </thead>\n",
       "  <tbody>\n",
       "    <tr>\n",
       "      <th>35.0</th>\n",
       "      <td>0.193143</td>\n",
       "    </tr>\n",
       "    <tr>\n",
       "      <th>2125.0</th>\n",
       "      <td>0.077739</td>\n",
       "    </tr>\n",
       "    <tr>\n",
       "      <th>2642.0</th>\n",
       "      <td>0.064724</td>\n",
       "    </tr>\n",
       "    <tr>\n",
       "      <th>1810.0</th>\n",
       "      <td>0.061622</td>\n",
       "    </tr>\n",
       "    <tr>\n",
       "      <th>1.0</th>\n",
       "      <td>0.052810</td>\n",
       "    </tr>\n",
       "  </tbody>\n",
       "</table>\n",
       "</div>"
      ],
      "text/plain": [
       "              Grado Betweenness\n",
       "Nodo Bitcoin                   \n",
       "35.0                   0.193143\n",
       "2125.0                 0.077739\n",
       "2642.0                 0.064724\n",
       "1810.0                 0.061622\n",
       "1.0                    0.052810"
      ]
     },
     "execution_count": 29,
     "metadata": {},
     "output_type": "execute_result"
    }
   ],
   "source": [
    "graphs[0].dfB.head()"
   ]
  },
  {
   "cell_type": "code",
   "execution_count": 30,
   "metadata": {},
   "outputs": [
    {
     "data": {
      "text/html": [
       "<div>\n",
       "<style scoped>\n",
       "    .dataframe tbody tr th:only-of-type {\n",
       "        vertical-align: middle;\n",
       "    }\n",
       "\n",
       "    .dataframe tbody tr th {\n",
       "        vertical-align: top;\n",
       "    }\n",
       "\n",
       "    .dataframe thead th {\n",
       "        text-align: right;\n",
       "    }\n",
       "</style>\n",
       "<table border=\"1\" class=\"dataframe\">\n",
       "  <thead>\n",
       "    <tr style=\"text-align: right;\">\n",
       "      <th></th>\n",
       "      <th>Grado Betweenness</th>\n",
       "    </tr>\n",
       "    <tr>\n",
       "      <th>Nodo Erdos Renyi</th>\n",
       "      <th></th>\n",
       "    </tr>\n",
       "  </thead>\n",
       "  <tbody>\n",
       "    <tr>\n",
       "      <th>5730</th>\n",
       "      <td>0.000196</td>\n",
       "    </tr>\n",
       "    <tr>\n",
       "      <th>4149</th>\n",
       "      <td>0.000195</td>\n",
       "    </tr>\n",
       "    <tr>\n",
       "      <th>5459</th>\n",
       "      <td>0.000195</td>\n",
       "    </tr>\n",
       "    <tr>\n",
       "      <th>3625</th>\n",
       "      <td>0.000195</td>\n",
       "    </tr>\n",
       "    <tr>\n",
       "      <th>1288</th>\n",
       "      <td>0.000194</td>\n",
       "    </tr>\n",
       "  </tbody>\n",
       "</table>\n",
       "</div>"
      ],
      "text/plain": [
       "                  Grado Betweenness\n",
       "Nodo Erdos Renyi                   \n",
       "5730                       0.000196\n",
       "4149                       0.000195\n",
       "5459                       0.000195\n",
       "3625                       0.000195\n",
       "1288                       0.000194"
      ]
     },
     "execution_count": 30,
     "metadata": {},
     "output_type": "execute_result"
    }
   ],
   "source": [
    "graphs[1].dfB.head()"
   ]
  },
  {
   "cell_type": "code",
   "execution_count": 31,
   "metadata": {},
   "outputs": [
    {
     "data": {
      "text/html": [
       "<div>\n",
       "<style scoped>\n",
       "    .dataframe tbody tr th:only-of-type {\n",
       "        vertical-align: middle;\n",
       "    }\n",
       "\n",
       "    .dataframe tbody tr th {\n",
       "        vertical-align: top;\n",
       "    }\n",
       "\n",
       "    .dataframe thead th {\n",
       "        text-align: right;\n",
       "    }\n",
       "</style>\n",
       "<table border=\"1\" class=\"dataframe\">\n",
       "  <thead>\n",
       "    <tr style=\"text-align: right;\">\n",
       "      <th></th>\n",
       "      <th>Grado Betweenness</th>\n",
       "    </tr>\n",
       "    <tr>\n",
       "      <th>Nodo Barabasi Albert</th>\n",
       "      <th></th>\n",
       "    </tr>\n",
       "  </thead>\n",
       "  <tbody>\n",
       "    <tr>\n",
       "      <th>3</th>\n",
       "      <td>0.123629</td>\n",
       "    </tr>\n",
       "    <tr>\n",
       "      <th>1</th>\n",
       "      <td>0.117080</td>\n",
       "    </tr>\n",
       "    <tr>\n",
       "      <th>2</th>\n",
       "      <td>0.104766</td>\n",
       "    </tr>\n",
       "    <tr>\n",
       "      <th>13</th>\n",
       "      <td>0.080143</td>\n",
       "    </tr>\n",
       "    <tr>\n",
       "      <th>7</th>\n",
       "      <td>0.057952</td>\n",
       "    </tr>\n",
       "  </tbody>\n",
       "</table>\n",
       "</div>"
      ],
      "text/plain": [
       "                      Grado Betweenness\n",
       "Nodo Barabasi Albert                   \n",
       "3                              0.123629\n",
       "1                              0.117080\n",
       "2                              0.104766\n",
       "13                             0.080143\n",
       "7                              0.057952"
      ]
     },
     "execution_count": 31,
     "metadata": {},
     "output_type": "execute_result"
    }
   ],
   "source": [
    "graphs[2].dfB.head()"
   ]
  },
  {
   "cell_type": "code",
   "execution_count": 32,
   "metadata": {},
   "outputs": [
    {
     "data": {
      "text/plain": [
       "Text(0.5,1,'Top 100 Closeness Degree')"
      ]
     },
     "execution_count": 32,
     "metadata": {},
     "output_type": "execute_result"
    },
    {
     "data": {
      "image/png": "[encoded data removed]",
      "text/plain": [
       "<Figure size 432x288 with 1 Axes>"
      ]
     },
     "metadata": {},
     "output_type": "display_data"
    }
   ],
   "source": [
    "for obj in graphs:\n",
    "    obj.closeCen(nbest_centrality(obj.g, nx.closeness_centrality))\n",
    "fig = figure()\n",
    "ax = fig.add_subplot(111)\n",
    "ax.plot([  item[1] for idx, item in enumerate(graphs[0].degClose[0:100])],'r-') # bitcoin\n",
    "ax.plot([  item[1] for idx, item in enumerate(graphs[1].degClose[0:100])],'b-') # Er\n",
    "ax.plot([  item[1] for idx, item in enumerate(graphs[2].degClose[0:100])],'g-') # Ba\n",
    "plt.xlabel(\"Nodes\")\n",
    "plt.ylabel(\"Closeness Centrality\")\n",
    "plt.legend([graphs[0].name,graphs[1].name,graphs[2].name])\n",
    "plt.title(\"Top 100 Closeness Degree\")"
   ]
  },
  {
   "cell_type": "code",
   "execution_count": 34,
   "metadata": {},
   "outputs": [],
   "source": [
    "for obj in graphs:\n",
    "    d = {'Nodo ' + obj.name: [ item[0]  for idx, item in enumerate(obj.degClose)] ,\n",
    "         'Grado Closeness': [  item[1] for idx, item in enumerate(obj.degClose)]}\n",
    "    df = pd.DataFrame(data=d)\n",
    "    obj.dfC = df.set_index('Nodo ' + obj.name)"
   ]
  },
  {
   "cell_type": "code",
   "execution_count": 36,
   "metadata": {},
   "outputs": [
    {
     "data": {
      "text/html": [
       "<div>\n",
       "<style scoped>\n",
       "    .dataframe tbody tr th:only-of-type {\n",
       "        vertical-align: middle;\n",
       "    }\n",
       "\n",
       "    .dataframe tbody tr th {\n",
       "        vertical-align: top;\n",
       "    }\n",
       "\n",
       "    .dataframe thead th {\n",
       "        text-align: right;\n",
       "    }\n",
       "</style>\n",
       "<table border=\"1\" class=\"dataframe\">\n",
       "  <thead>\n",
       "    <tr style=\"text-align: right;\">\n",
       "      <th></th>\n",
       "      <th>Grado Closeness</th>\n",
       "    </tr>\n",
       "    <tr>\n",
       "      <th>Nodo Erdos Renyi</th>\n",
       "      <th></th>\n",
       "    </tr>\n",
       "  </thead>\n",
       "  <tbody>\n",
       "    <tr>\n",
       "      <th>5730</th>\n",
       "      <td>0.530016</td>\n",
       "    </tr>\n",
       "    <tr>\n",
       "      <th>3625</th>\n",
       "      <td>0.529968</td>\n",
       "    </tr>\n",
       "    <tr>\n",
       "      <th>5459</th>\n",
       "      <td>0.529921</td>\n",
       "    </tr>\n",
       "    <tr>\n",
       "      <th>1288</th>\n",
       "      <td>0.529873</td>\n",
       "    </tr>\n",
       "    <tr>\n",
       "      <th>1055</th>\n",
       "      <td>0.529777</td>\n",
       "    </tr>\n",
       "  </tbody>\n",
       "</table>\n",
       "</div>"
      ],
      "text/plain": [
       "                  Grado Closeness\n",
       "Nodo Erdos Renyi                 \n",
       "5730                     0.530016\n",
       "3625                     0.529968\n",
       "5459                     0.529921\n",
       "1288                     0.529873\n",
       "1055                     0.529777"
      ]
     },
     "execution_count": 36,
     "metadata": {},
     "output_type": "execute_result"
    }
   ],
   "source": [
    "graphs[1].dfC.head()"
   ]
  },
  {
   "cell_type": "code",
   "execution_count": 37,
   "metadata": {},
   "outputs": [
    {
     "data": {
      "text/html": [
       "<div>\n",
       "<style scoped>\n",
       "    .dataframe tbody tr th:only-of-type {\n",
       "        vertical-align: middle;\n",
       "    }\n",
       "\n",
       "    .dataframe tbody tr th {\n",
       "        vertical-align: top;\n",
       "    }\n",
       "\n",
       "    .dataframe thead th {\n",
       "        text-align: right;\n",
       "    }\n",
       "</style>\n",
       "<table border=\"1\" class=\"dataframe\">\n",
       "  <thead>\n",
       "    <tr style=\"text-align: right;\">\n",
       "      <th></th>\n",
       "      <th>Grado Closeness</th>\n",
       "    </tr>\n",
       "    <tr>\n",
       "      <th>Nodo Barabasi Albert</th>\n",
       "      <th></th>\n",
       "    </tr>\n",
       "  </thead>\n",
       "  <tbody>\n",
       "    <tr>\n",
       "      <th>3</th>\n",
       "      <td>0.386486</td>\n",
       "    </tr>\n",
       "    <tr>\n",
       "      <th>1</th>\n",
       "      <td>0.384188</td>\n",
       "    </tr>\n",
       "    <tr>\n",
       "      <th>2</th>\n",
       "      <td>0.379379</td>\n",
       "    </tr>\n",
       "    <tr>\n",
       "      <th>13</th>\n",
       "      <td>0.369509</td>\n",
       "    </tr>\n",
       "    <tr>\n",
       "      <th>7</th>\n",
       "      <td>0.358318</td>\n",
       "    </tr>\n",
       "  </tbody>\n",
       "</table>\n",
       "</div>"
      ],
      "text/plain": [
       "                      Grado Closeness\n",
       "Nodo Barabasi Albert                 \n",
       "3                            0.386486\n",
       "1                            0.384188\n",
       "2                            0.379379\n",
       "13                           0.369509\n",
       "7                            0.358318"
      ]
     },
     "execution_count": 37,
     "metadata": {},
     "output_type": "execute_result"
    }
   ],
   "source": [
    "graphs[2].dfC.head()"
   ]
  },
  {
   "cell_type": "code",
   "execution_count": null,
   "metadata": {},
   "outputs": [],
   "source": [
    "largest_cc = max(nx.connected_components(g), key=len)\n",
    "print(\"Il componente piu largo della rete è largo :\", len(largest_cc))"
   ]
  },
  {
   "cell_type": "markdown",
   "metadata": {},
   "source": [
    "## Community"
   ]
  },
  {
   "cell_type": "code",
   "execution_count": 28,
   "metadata": {},
   "outputs": [
    {
     "data": {
      "text/plain": [
       "0"
      ]
     },
     "execution_count": 28,
     "metadata": {},
     "output_type": "execute_result"
    }
   ],
   "source": [
    "((graphs[0].g.remove_node(6000)) if graphs[0].g.has_node(6000) else 0)\n",
    "((graphs[0].g.remove_node(3911)) if graphs[0].g.has_node(3911) else 0)\n",
    "((graphs[0].g.remove_node(3762)) if graphs[0].g.has_node(3762) else 0)\n",
    "((graphs[0].g.remove_node(6002)) if graphs[0].g.has_node(6002) else 0)\n",
    "((graphs[0].g.remove_node(3912)) if graphs[0].g.has_node(3912) else 0)\n",
    "((graphs[0].g.remove_node(3763)) if graphs[0].g.has_node(3763) else 0)"
   ]
  },
  {
   "cell_type": "code",
   "execution_count": 29,
   "metadata": {},
   "outputs": [],
   "source": [
    "def printSummary(g,coms):\n",
    "    res = pquality_summary(g, coms)\n",
    "    for _, v in res.items():\n",
    "        print(v)"
   ]
  },
  {
   "cell_type": "markdown",
   "metadata": {},
   "source": [
    "## Louvain_Method"
   ]
  },
  {
   "cell_type": "code",
   "execution_count": 30,
   "metadata": {},
   "outputs": [],
   "source": [
    "def louvain(g):\n",
    "    part = community.best_partition(g)\n",
    "    values = [part.get(node) for node in g.nodes()]\n",
    "    nx.draw_spring(g, cmap = plt.get_cmap('jet'), node_color = values, node_size=30, with_labels=False)\n",
    "    print(\"%i partitions\" % len(Counter(values).values()))\n",
    "    result_dict = {0:[] , 1:[], 2:[], 3:[], 4:[], 5:[], 6 :[], 7:[], 8:[], 9:[], 10:[], 11:[], 12 :[], 13:[], 14:[], 15 :[], 16: [], 17: [], 18: []}\n",
    "    for e,v in part.items():\n",
    "        result_dict[v].append(e)\n",
    "    locoms = result_dict.values()\n",
    "    return locoms, part, values\n",
    "def hist(values):\n",
    "    numbins = len(Counter(values).values())\n",
    "    plt.hist(values, bins=numbins,color=\"#0f6dbc\")\n",
    "    plt.title(\"Size of BitCoin Communities with Louvain\")\n",
    "    plt.xlabel(\"Community\")\n",
    "    plt.ylabel(\"Nodes\")\n",
    "def bubblechart(part):               \n",
    "    parts = defaultdict(int)\n",
    "    for parta in part.values():\n",
    "        parts[parta] += 1\n",
    "        bubbles = nx.Graph()\n",
    "    for parta in parts.items():\n",
    "        bubbles.add_node(parta[0], size=parta[1])\n",
    "    pos = nx.random_layout(bubbles)\n",
    "    plt.figure(figsize=(12,12))\n",
    "    plt.axis('off')\n",
    "    nx.draw_networkx_nodes(bubbles, pos,alpha=0.6, node_size=list(map(lambda x: x*6, parts.values())),node_color=[random.random() for x in parts.values()],cmap=plt.cm.RdYlBu)\n",
    "    plt.show()\n",
    "    printSummary(g,locoms)"
   ]
  },
  {
   "cell_type": "code",
   "execution_count": null,
   "metadata": {},
   "outputs": [],
   "source": [
    "locoms, part,values = louvain(graphs[0].g)\n",
    "graphs[0].locoms(locoms)\n",
    "hist(values)"
   ]
  },
  {
   "cell_type": "code",
   "execution_count": null,
   "metadata": {},
   "outputs": [],
   "source": [
    "bubblechart(part)"
   ]
  },
  {
   "cell_type": "markdown",
   "metadata": {},
   "source": [
    "## Girvan_Newman"
   ]
  },
  {
   "cell_type": "code",
   "execution_count": null,
   "metadata": {},
   "outputs": [],
   "source": [
    "def girvan(G):\n",
    "    c = nx.connected_component_subgraphs(G)\n",
    "    l = len(list(c))\n",
    "    print(\"The number of connected component are {}\".format(l))\n",
    "    while (l < 3): \n",
    "        G.remove_edge(*edge_to_remove(G))    # sa qual'è l'edge da rimuovere\n",
    "        c = nx.connected_component_subgraphs(G)\n",
    "        l = len(list(c))\n",
    "        print(\"The number of connected component are {}\".format(l))\n",
    "    return c"
   ]
  },
  {
   "cell_type": "code",
   "execution_count": null,
   "metadata": {},
   "outputs": [],
   "source": [
    "def edge_to_remove(G):\n",
    "    dict1 = nx.edge_betweenness_centrality(G)\n",
    "    list_of_tuples = sorted(dict1.items(), reverse = True)\n",
    "   # list_of_tuples.sort(key = lambda x: x[1], reverse =  true)\n",
    "    return list_of_tuples[0][0]"
   ]
  },
  {
   "cell_type": "code",
   "execution_count": null,
   "metadata": {
    "scrolled": true
   },
   "outputs": [],
   "source": [
    "c = girvan(g)\n",
    "printSummary(g,c)"
   ]
  },
  {
   "cell_type": "markdown",
   "metadata": {},
   "source": [
    "## K-Clique"
   ]
  },
  {
   "cell_type": "code",
   "execution_count": null,
   "metadata": {},
   "outputs": [],
   "source": [
    "def k_clique(g,rel = range(3,7)):\n",
    "    k_cricche = {}\n",
    "    for i in rel:\n",
    "        k_cricche[i] = list(k_clique_communities(g.to_undirected(True), i))\n",
    "        print(\"Grandezza componenti %s\" % (len(k_cricche[i])))\n",
    "        printSummary(g,k_cricche[i])\n",
    "    return k_cricche"
   ]
  },
  {
   "cell_type": "code",
   "execution_count": null,
   "metadata": {},
   "outputs": [],
   "source": [
    "k_cricche = k_clique(graphs[0].g)\n",
    "graph[0].kcoms(k_cricche)"
   ]
  },
  {
   "cell_type": "markdown",
   "metadata": {},
   "source": [
    "## Label Propagation"
   ]
  },
  {
   "cell_type": "code",
   "execution_count": null,
   "metadata": {},
   "outputs": [],
   "source": [
    "lp = list(label_propagation_communities(g)\n",
    "lpcoms = [tuple(x) for x in lp]\n",
    "print(\"Numero community: %s \" % len(lpcoms))\n",
    "printSummary(g,lpcoms)\n",
    "graph[0].lpcoms(lpcoms)"
   ]
  },
  {
   "cell_type": "markdown",
   "metadata": {},
   "source": [
    "## Demon"
   ]
  },
  {
   "cell_type": "code",
   "execution_count": null,
   "metadata": {},
   "outputs": [],
   "source": [
    "def demon(g,epsilon = np.arange(1,7)):\n",
    "    coms = []\n",
    "    for t in [x/10 for x in epsilon]:\n",
    "        D = d.Demon(graph=g, epsilon=t)\n",
    "        dcoms = D.execute()\n",
    "        printSummary(g,dcoms)\n",
    "        print(\"Grandezza componenti %s\" % (len(dcoms)))\n",
    "        coms.append((len(dcoms)))\n",
    "    pm = plt.bar(epsilon, coms)\n",
    "    ax.set_xticks(epsilon)\n",
    "    ax.set_xticklabels([x/10 for x in epsilon])\n",
    "    ax.set_ylim([0, 120])\n",
    "    ax.set_ylabel('Community')\n",
    "    ax.set_xlabel('Epsilon')"
   ]
  },
  {
   "cell_type": "code",
   "execution_count": null,
   "metadata": {},
   "outputs": [],
   "source": [
    "dcoms = demon(graphs[0].g)\n",
    "graph[0].dcoms(dcoms)"
   ]
  },
  {
   "cell_type": "markdown",
   "metadata": {},
   "source": [
    "#  NF1"
   ]
  },
  {
   "cell_type": "code",
   "execution_count": null,
   "metadata": {},
   "outputs": [],
   "source": [
    "# Computing the NF1 scores and statistics\n",
    "nf = NF1(lpcoms, dcoms)\n",
    "results = nf.summary()\n",
    "print(results['scores'])\n",
    "print(results['details'])\n",
    "\n",
    "# Visualising the Precision-Recall density scatter-plot\n",
    "nf.plot()"
   ]
  },
  {
   "cell_type": "markdown",
   "metadata": {},
   "source": [
    "## Strong Ties"
   ]
  },
  {
   "cell_type": "code",
   "execution_count": null,
   "metadata": {},
   "outputs": [],
   "source": [
    "def generate_triangles(nodes):\n",
    "    \"\"\"Generate triangles. Weed out duplicates.\"\"\"\n",
    "    visited_ids = set() # remember the nodes that we have tested already\n",
    "    a = []\n",
    "    for k, v in nodes.items(): #k --> v[node_b_id,...]\n",
    "        for node_b_id in v:\n",
    "            if node_b_id in visited_ids:\n",
    "                continue # we should have already found (no come back)\n",
    "            for node_c_id in nodes[node_b_id]:    #take all the neighbours od node_b\n",
    "                if node_c_id in visited_ids:\n",
    "                    continue # we should have already found c->a->b->c\n",
    "                if k in nodes[node_c_id]:  #if k is in neighbours of node_c there is a triangle\n",
    "                    a.append([k, node_b_id, node_c_id])  #nodes 6 2 10   yield in python instead of\n",
    "        visited_ids.add(k) # don't search a - we already have all those cycles\n",
    "    return a\n",
    "nodesN = {}\n",
    "for i in nx.nodes(g):\n",
    "    nodesN[i] = [ n for n in g.neighbors(i) ]    #selezioni i nodi con più di due neighbours\n",
    "#nodesN = dict([(k, v) for k, v in nodesN.items() if len(v) > 1])\n",
    "a = generate_triangles(nodesN)\n",
    "print(\"Numero triangoli %s\" % len(a))\n",
    "st = nx.triangles(nt)\n",
    "print(\"Numero nodi con triangoli: %s\" % len([k for k, v in st.items() if v > 0]))\n",
    "#print(\"Media triangoli per nodo: %s\" % [sum(st.values()) / len(st.keys())])"
   ]
  },
  {
   "cell_type": "code",
   "execution_count": null,
   "metadata": {},
   "outputs": [],
   "source": [
    "def components_stats(g,n):\n",
    "    print('computing number of components...')\n",
    "    number_of_components = []\n",
    "    for x,y, _ in n:\n",
    "        number_of_components.append(nx.number_connected_components(g))\n",
    "        e = (x,y)\n",
    "        print(e)\n",
    "        g.remove_edge(*(e))\n",
    "    return number_of_components\n",
    "\n",
    "def tie_strength(g):\n",
    "    print('removing nodes in increasing order by common_neighbors')\n",
    "    g_temp = deepcopy(g)\n",
    "    number_of_components_increasing = components_stats(g_temp.g,g_temp.overlapping_coefficient)\n",
    "    \n",
    "    print('removing nodes in decreasing order by common_neighbors')\n",
    "    g_temp = deepcopy(g)\n",
    "    number_of_components_decreasing = components_stats(g_temp.g,list(reversed(g_temp.overlapping_coefficient)))\n",
    "    plt.ylabel('Numero di componenti')\n",
    "    plt.xlabel('Numero di link eliminati')\n",
    "    plt.plot(number_of_components_increasing, label=\"Ordine crescente\")\n",
    "    plt.plot(number_of_components_decreasing, label=\"Ordine decrescente\")\n",
    "    plt.legend()\n",
    "    plt.show()\n",
    "    return (number_of_components_increasing,number_of_components_decreasing)"
   ]
  },
  {
   "cell_type": "code",
   "execution_count": null,
   "metadata": {},
   "outputs": [],
   "source": [
    "#time required\n",
    "graphs[0].componentOverlap(tie_strength(graphs[0]))"
   ]
  },
  {
   "cell_type": "markdown",
   "metadata": {},
   "source": [
    "# Diffusion model to simulate\n",
    "Specify the parameters "
   ]
  },
  {
   "cell_type": "code",
   "execution_count": null,
   "metadata": {},
   "outputs": [],
   "source": [
    "def simulateSI(graph,par):\n",
    "    # Model Configuration\n",
    "    g = graph.g\n",
    "    vm = MultiPlot()\n",
    "    for i in par:\n",
    "        si_model = si.SIModel(g)\n",
    "        config = mc.Configuration()\n",
    "        config.add_model_parameter('beta', i)\n",
    "        config.add_model_parameter(\"percentage_infected\", 0.05)\n",
    "        si_model.set_initial_status(config)\n",
    "        iterations = si_model.iteration_bunch(200)\n",
    "        trends = si_model.build_trends(iterations)\n",
    "        viz = DiffusionTrend(si_model, trends)\n",
    "        p4 = viz.plot(width=400, height=400)\n",
    "        t = Title()\n",
    "        t.text = graph.name\n",
    "        p4.title = t\n",
    "        vm.add_plot(p4)\n",
    "    # Simulation\n",
    "    print(json.dumps(si_model.parameters, indent=2))\n",
    "    m = vm.plot()\n",
    " #   show(m)\n",
    "    output_file(graph.name+'SI.html')\n",
    "    save(m)\n",
    "def simulateSIR(graph,par): \n",
    "    vm = MultiPlot()\n",
    "    g = graph.g\n",
    "    for i in par:\n",
    "        sir_model = sir.SIRModel(g)\n",
    "        config = mc.Configuration()\n",
    "        config.add_model_parameter('beta', i[0])\n",
    "        config.add_model_parameter('gamma', i[1])\n",
    "        config.add_model_parameter(\"percentage_infected\", i[2])\n",
    "        sir_model.set_initial_status(config)\n",
    "        iterations = sir_model.iteration_bunch(200)\n",
    "        trends = sir_model.build_trends(iterations)\n",
    "        viz = DiffusionTrend(sir_model, trends)\n",
    "        p5 = viz.plot(width=400, height=400)\n",
    "        t = Title()\n",
    "        t.text = graph.name\n",
    "        p5.title = t\n",
    "        vm.add_plot(p5)\n",
    "    print(json.dumps(sir_model.parameters, indent=2))\n",
    "    m = vm.plot()\n",
    "    #show(m)\n",
    "    output_file(graph.name+'SIR.html')\n",
    "    save(m)\n",
    "def simulateSIS(graph,par): \n",
    "    vm = MultiPlot()\n",
    "    g = graph.g\n",
    "    for i in par:\n",
    "        sis_model = sis.SISModel(g)\n",
    "        config = mc.Configuration()\n",
    "        config.add_model_parameter('beta', i[0])\n",
    "        config.add_model_parameter('lambda', i[1] )\n",
    "        config.add_model_parameter(\"percentage_infected\",i[2])\n",
    "        sis_model.set_initial_status(config)\n",
    "        iterations = sis_model.iteration_bunch(200)\n",
    "        trends = sis_model.build_trends(iterations)\n",
    "        viz = DiffusionTrend(sis_model, trends)\n",
    "        p3 = viz.plot(width=400, height=400)\n",
    "        t = Title()\n",
    "        t.text = graph.name\n",
    "        p3.title = t\n",
    "        vm.add_plot(p3)\n",
    "    print(json.dumps(sis_model.parameters, indent=2))\n",
    "    m = vm.plot()\n",
    "  #  show(m)\n",
    "    output_file(graph.name+'SIS.html')\n",
    "    save(m)\n",
    "def simulateThreshold(graph): \n",
    "    vm = MultiPlot()\n",
    "    g = graph.g\n",
    "    # Threshold\n",
    "    th_model = th.ThresholdModel(g)\n",
    "    config = mc.Configuration()\n",
    "    # Set individual node threshold\n",
    "    threshold = 0.40\n",
    "    for n in g.nodes():\n",
    "            config.add_node_configuration(\"threshold\", n, threshold)\n",
    "    config.add_model_parameter(\"percentage_infected\", 0.30)\n",
    "    th_model.set_initial_status(config)\n",
    "    iterations = th_model.iteration_bunch(60)\n",
    "    trends = th_model.build_trends(iterations)\n",
    "    viz = DiffusionTrend(th_model, trends)\n",
    "    p6 = viz.plot(width=400, height=400)\n",
    "    t = Title()\n",
    "    t.text = graph.name\n",
    "    p6.title = t\n",
    "    vm.add_plot(p6)\n",
    "    m = vm.plot()\n",
    "    #show(m)\n",
    "    output_file(graph.name+'Threshold.html')\n",
    "    save(m)   "
   ]
  },
  {
   "cell_type": "code",
   "execution_count": null,
   "metadata": {},
   "outputs": [],
   "source": [
    "for obj in graphs:\n",
    "    simulateSI(obj,[0.01,0.05, 0.1])\n",
    "    simulateSIR(obj,[[0.005,0.01,0.05],[0.005,0.01,0.01],[0.005,0.006,0.01]])\n",
    "    simulateSIS(obj,[[0.001,0.01,0.05],[0.01, 0.007, 0.05],[0.001,0.002,0.05]])\n",
    "    simulateThreshold(obj)"
   ]
  },
  {
   "cell_type": "code",
   "execution_count": null,
   "metadata": {},
   "outputs": [],
   "source": []
  }
 ],
 "metadata": {
  "kernelspec": {
   "display_name": "Python 3",
   "language": "python",
   "name": "python3"
  },
  "language_info": {
   "codemirror_mode": {
    "name": "ipython",
    "version": 3
   },
   "file_extension": ".py",
   "mimetype": "text/x-python",
   "name": "python",
   "nbconvert_exporter": "python",
   "pygments_lexer": "ipython3",
   "version": "3.6.5"
  }
 },
 "nbformat": 4,
 "nbformat_minor": 2
}
